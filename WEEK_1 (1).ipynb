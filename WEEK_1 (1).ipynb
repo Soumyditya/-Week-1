{
  "nbformat": 4,
  "nbformat_minor": 0,
  "metadata": {
    "colab": {
      "provenance": []
    },
    "kernelspec": {
      "name": "python3",
      "display_name": "Python 3"
    },
    "language_info": {
      "name": "python"
    }
  },
  "cells": [
    {
      "cell_type": "code",
      "source": [
        "import numpy as np\n",
        "import pandas as pd\n",
        "import matplotlib.pyplot as plt\n",
        "import cv2\n",
        "from tqdm import tqdm\n",
        "import warnings\n",
        "warnings.filterwarnings('ignore')\n",
        "\n",
        "train_path = \"dataset/TRAIN\"\n",
        "test_path = \"dataset/TEST\"\n",
        "\n",
        "from tensorflow.keras.models import Sequential\n",
        "from tensorflow.keras.layers import Conv2D, MaxPooling2D, Activation, Dropout, Flatten, Dense, BatchNormalization\n",
        "from tensorflow.keras.preprocessing.image import ImageDataGenerator, img_to_array, load_img\n",
        "from tensorflow.keras.utils import plot_model\n",
        "from glob import glob\n",
        "\n",
        "# Visualization of dataset\n",
        "x_data = []\n",
        "y_data = []\n",
        "for category in glob(train_path+\"/*\"):\n",
        "    for file in tqdm(glob(category+\"/*\")):\n",
        "        img_array = cv2.imread(file)\n",
        "        img_array = cv2.cvtColor(img_array, cv2.COLOR_BGR2RGB)\n",
        "        x_data.append(img_array)\n",
        "        y_data.append(category.split('/')[-1])\n",
        "\n",
        "\n",
        "data = pd.DataFrame({'image': x_data, \"label\": y_data})\n",
        "\n",
        "\n",
        "print(data.shape)\n",
        "\n",
        "\n",
        "category_counts = data['label'].value_counts()\n",
        "\n",
        "\n",
        "colors = plt.cm.Paired(np.linspace(0, 1, len(category_counts)))\n",
        "\n",
        "\n",
        "plt.pie(category_counts,\n",
        "        labels=category_counts.index,\n",
        "        autopct='%0.2f%%',\n",
        "        colors=colors,\n",
        "        startangle=90,\n",
        "        explode=[0.05] * len(category_counts))\n",
        "\n",
        "plt.show()\n"
      ],
      "metadata": {
        "id": "j6siKHSDWRW8"
      },
      "execution_count": null,
      "outputs": []
    }
  ]
}